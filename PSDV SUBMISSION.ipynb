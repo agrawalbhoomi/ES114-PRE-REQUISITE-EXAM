{
 "cells": [
  {
   "cell_type": "markdown",
   "id": "09503f13-887b-44cc-bf3b-b1e0fc686397",
   "metadata": {},
   "source": [
    "# Q1. LIST OPERATIONS AND BASIC STATISTICS"
   ]
  },
  {
   "cell_type": "code",
   "execution_count": 114,
   "id": "662463fa-6a3a-4c25-88fb-031e1021f89b",
   "metadata": {},
   "outputs": [],
   "source": [
    "# list of first 20 natural numbers\n",
    "natural_nums = []\n",
    "for i in range(1,21):\n",
    "    natural_nums.append(i)"
   ]
  },
  {
   "cell_type": "code",
   "execution_count": 116,
   "id": "edc74c16-9203-402d-8e75-3e98c100a38d",
   "metadata": {},
   "outputs": [
    {
     "data": {
      "text/plain": [
       "[1, 2, 3, 4, 5, 6, 7, 8, 9, 10, 11, 12, 13, 14, 15, 16, 17, 18, 19, 20]"
      ]
     },
     "execution_count": 116,
     "metadata": {},
     "output_type": "execute_result"
    }
   ],
   "source": [
    "natural_nums"
   ]
  },
  {
   "cell_type": "code",
   "execution_count": 118,
   "id": "29b411aa-f538-4d22-9d43-2e485e00c12d",
   "metadata": {},
   "outputs": [
    {
     "name": "stdout",
     "output_type": "stream",
     "text": [
      "110\n"
     ]
    }
   ],
   "source": [
    "# sum of all even numbers of list\n",
    "s = 0\n",
    "for num in natural_nums:\n",
    "    if num%2==0:\n",
    "        s += num\n",
    "    else:\n",
    "        continue\n",
    "print(s)"
   ]
  },
  {
   "cell_type": "code",
   "execution_count": 120,
   "id": "cf20e100-8dff-444f-8592-1dd52c6fc915",
   "metadata": {},
   "outputs": [
    {
     "name": "stdout",
     "output_type": "stream",
     "text": [
      "654729075\n"
     ]
    }
   ],
   "source": [
    "# product of all odd numbers in list\n",
    "prod = 1\n",
    "for num in natural_nums:\n",
    "    if num%2 != 0:\n",
    "        prod *= num\n",
    "    else:\n",
    "        continue\n",
    "print(prod)"
   ]
  },
  {
   "cell_type": "code",
   "execution_count": 122,
   "id": "cdfe37d7-b77a-4bac-aa79-f1753285e4ea",
   "metadata": {},
   "outputs": [
    {
     "name": "stdout",
     "output_type": "stream",
     "text": [
      "The mean is 10.5\n",
      "The median is 11.5\n",
      "The standard deviation is 5.766281297335398\n"
     ]
    }
   ],
   "source": [
    "import math\n",
    "# mean\n",
    "mean = sum(natural_nums)/20\n",
    "print(f'The mean is {mean}')\n",
    "\n",
    "# median\n",
    "if len(natural_nums)%2==0:\n",
    "    median = (natural_nums[int(len(natural_nums)/2)]+natural_nums[int(len(natural_nums)/2+1)])/2\n",
    "else:\n",
    "    median = (natural_nums[int(len(natural_nums)+1/2)])\n",
    "print(f'The median is {median}')\n",
    "\n",
    "# standard deviation\n",
    "s = 0\n",
    "for num in natural_nums:\n",
    "    s = s + (num - mean)**2\n",
    "sd = math.sqrt(s/20)\n",
    "    \n",
    "print(f'The standard deviation is {sd}')"
   ]
  },
  {
   "cell_type": "markdown",
   "id": "4ca07897-20f0-4c9a-a9fe-cde336830713",
   "metadata": {},
   "source": [
    "# Q2. MUTABLE VS. IMMUTABLE DATA TYPES"
   ]
  },
  {
   "cell_type": "markdown",
   "id": "80e40f13-728a-408b-bd92-77f7e6339977",
   "metadata": {},
   "source": [
    "Mutable data types are those that can be altered.\n",
    "Examples: Lists, dictionaries\n",
    "Immutable data types are those that cannot be altered once defined.\n",
    "Examples: Strings, tuples"
   ]
  },
  {
   "cell_type": "markdown",
   "id": "fb925203-9865-4808-91d7-4e55649009b9",
   "metadata": {},
   "source": [
    "# Q3. FIBONACCI SEQUENCE"
   ]
  },
  {
   "cell_type": "code",
   "execution_count": 126,
   "id": "aef412e9-ccee-430b-b1ad-e467718c5ba6",
   "metadata": {},
   "outputs": [
    {
     "name": "stdin",
     "output_type": "stream",
     "text": [
      " 9\n"
     ]
    },
    {
     "data": {
      "text/plain": [
       "[0, 1, 1, 2, 3, 5, 8, 13, 21, 34]"
      ]
     },
     "execution_count": 126,
     "metadata": {},
     "output_type": "execute_result"
    }
   ],
   "source": [
    "# Python function taking number n and returning a list of first n fibonacci numbers\n",
    "def fibonacci(n):\n",
    "\n",
    "    lst = [0]\n",
    "    a,b = 0,1\n",
    "    for i in range(n):\n",
    "        a,b = b,a+b\n",
    "        lst.append(a)\n",
    "    return lst\n",
    "\n",
    "n = int(input())\n",
    "fibonacci(n)"
   ]
  },
  {
   "cell_type": "code",
   "execution_count": 128,
   "id": "b105d6a9-8f23-449b-8f4c-58c284361bba",
   "metadata": {},
   "outputs": [
    {
     "data": {
      "image/png": "[encoded data removed]",
      "text/plain": [
       "<Figure size 640x480 with 1 Axes>"
      ]
     },
     "metadata": {},
     "output_type": "display_data"
    }
   ],
   "source": [
    "# fibonacci sequence using line graph\n",
    "import matplotlib.pyplot as plt\n",
    "x = [x for x in range(n+1)]\n",
    "y = fibonacci(n)\n",
    "\n",
    "plt.plot(x,y)\n",
    "plt.show()"
   ]
  },
  {
   "cell_type": "markdown",
   "id": "2f74ab6c-dd10-4588-a8ae-2244066a8db8",
   "metadata": {},
   "source": [
    "# Q4. LIST MANIPULATION"
   ]
  },
  {
   "cell_type": "code",
   "execution_count": 131,
   "id": "c8806b80-db02-495b-a76e-2f9b8783c51d",
   "metadata": {},
   "outputs": [
    {
     "name": "stdout",
     "output_type": "stream",
     "text": [
      "[3, 5, 7, 6, 9, 11, 13]\n",
      "[3, 5, 6, 9, 11, 13]\n",
      "[13, 11, 9, 6, 5, 3]\n",
      "The mean is 7.833333333333333\n",
      "The median is 7.5\n"
     ]
    }
   ],
   "source": [
    "lst = [3,5,7,9,11,13]\n",
    "\n",
    "# inserting 6 at 3rd index\n",
    "lst.insert(3,6)\n",
    "print(lst)\n",
    "\n",
    "# removing 7 from list\n",
    "lst.remove(7)\n",
    "print(lst)\n",
    "\n",
    "# reverse the list\n",
    "lst.reverse()\n",
    "print(lst)\n",
    "\n",
    "# mean and median of modified list\n",
    "mean = sum(lst)/len(lst)\n",
    "print(f'The mean is {mean}')\n",
    "\n",
    "median = (lst[2] + lst[3])/2\n",
    "print(f'The median is {median}')"
   ]
  },
  {
   "cell_type": "markdown",
   "id": "4dc919bf-0d87-4f42-b97d-33e580b34f8c",
   "metadata": {},
   "source": [
    "# Q5. USER INPUT AND BASIC STATISTICS"
   ]
  },
  {
   "cell_type": "code",
   "execution_count": 2,
   "id": "d9f7794d-7522-4cb0-84f8-96e0b49ba69a",
   "metadata": {},
   "outputs": [
    {
     "name": "stdin",
     "output_type": "stream",
     "text": [
      " 1,2,3,4\n"
     ]
    },
    {
     "name": "stdout",
     "output_type": "stream",
     "text": [
      "The mean of given list numbers is 2.5\n",
      "The smallest number is 1\n",
      "The largest number is 4\n"
     ]
    },
    {
     "data": {
      "image/png": "[encoded data removed]",
      "text/plain": [
       "<Figure size 640x480 with 1 Axes>"
      ]
     },
     "metadata": {},
     "output_type": "display_data"
    }
   ],
   "source": [
    "user_input = list(map(int,input().split(',')))\n",
    "\n",
    "# mean calculation\n",
    "s = sum(user_input)/len(user_input)\n",
    "print(f'The mean of given list numbers is {s}')\n",
    "\n",
    "# print the smallest and largest numbers\n",
    "smallest = min(user_input)\n",
    "largest = max(user_input)\n",
    "print(f'The smallest number is {smallest}')\n",
    "print(f'The largest number is {largest}')\n",
    "\n",
    "# plot a histogram\n",
    "import matplotlib.pyplot as plt\n",
    "plt.hist(user_input)\n",
    "plt.show()"
   ]
  },
  {
   "cell_type": "markdown",
   "id": "5b81508c-1d2d-4a73-9559-4b32364f8410",
   "metadata": {},
   "source": [
    "# Q6. PALINDROME CHECK"
   ]
  },
  {
   "cell_type": "code",
   "execution_count": 4,
   "id": "fd8ac24a-267e-42b4-be21-4d2ac3e687ee",
   "metadata": {},
   "outputs": [
    {
     "name": "stdin",
     "output_type": "stream",
     "text": [
      " A man a plan a canal Panama\n"
     ]
    },
    {
     "name": "stdout",
     "output_type": "stream",
     "text": [
      "True\n"
     ]
    }
   ],
   "source": [
    "n = input()\n",
    "x = ''.join(n.split(' ')).lower()\n",
    "if x == x[::-1]:\n",
    "    print('True')\n",
    "else:\n",
    "    print('False')"
   ]
  },
  {
   "cell_type": "markdown",
   "id": "b04f1e75-d965-45c1-bfa8-f0c2a0231a19",
   "metadata": {},
   "source": [
    "# Q7. DICTIONARY OPERATIONS"
   ]
  },
  {
   "cell_type": "code",
   "execution_count": 55,
   "id": "85fb705b-2a78-45af-994b-140856d54b07",
   "metadata": {},
   "outputs": [
    {
     "name": "stdout",
     "output_type": "stream",
     "text": [
      "77.0\n",
      "Anjali\n"
     ]
    },
    {
     "data": {
      "image/png": "[encoded data removed]",
      "text/plain": [
       "<Figure size 640x480 with 1 Axes>"
      ]
     },
     "metadata": {},
     "output_type": "display_data"
    }
   ],
   "source": [
    "students = {'Rahul':70, 'Anjali':85, 'Tina':76}\n",
    "# average marks\n",
    "avg_marks = sum(students.values())/len(students)\n",
    "print(avg_marks)\n",
    "\n",
    "# names of students scoring above average\n",
    "for name,marks in students.items():\n",
    "    if marks > avg_marks:\n",
    "        print(name)\n",
    "\n",
    "# Visualize the distribution of marks using a bar chart.\n",
    "import matplotlib.pyplot as plt\n",
    "plt.bar(students.keys(),students.values())\n",
    "plt.show()"
   ]
  },
  {
   "cell_type": "markdown",
   "id": "6ce7a671-22e9-4795-9e94-c1625d364b0d",
   "metadata": {},
   "source": [
    "# Q8. TUPLE LIST CREATION"
   ]
  },
  {
   "cell_type": "code",
   "execution_count": 71,
   "id": "da318227-9fc4-4ee6-a4e0-72636bb816aa",
   "metadata": {},
   "outputs": [
    {
     "name": "stdout",
     "output_type": "stream",
     "text": [
      "[(1, 1), (2, 4), (3, 9), (4, 16), (5, 25), (6, 36), (7, 49), (8, 64), (9, 81), (10, 100)]\n"
     ]
    },
    {
     "data": {
      "image/png": "[encoded data removed]",
      "text/plain": [
       "<Figure size 640x480 with 1 Axes>"
      ]
     },
     "metadata": {},
     "output_type": "display_data"
    }
   ],
   "source": [
    "# creating a list of tuples with number and its square\n",
    "req = []\n",
    "for i in range(1,11):\n",
    "    x = tuple((i,i**2))\n",
    "    req.append(x)\n",
    "print(req)\n",
    "\n",
    "# Plot the numbers and their squares on a scatter plot.\n",
    "import matplotlib.pyplot as plt\n",
    "numbers = [num for num,square in req]\n",
    "squares = [square for num,square in req]\n",
    "\n",
    "plt.scatter(numbers,squares)\n",
    "plt.show()"
   ]
  },
  {
   "cell_type": "markdown",
   "id": "74feef05-68cd-4499-be67-3b5b9f77a645",
   "metadata": {},
   "source": [
    "# Q9. MERGING DICTIONARIES"
   ]
  },
  {
   "cell_type": "code",
   "execution_count": 13,
   "id": "96989a27-6f65-4ea0-a5f2-a7c374688cfb",
   "metadata": {},
   "outputs": [
    {
     "name": "stdout",
     "output_type": "stream",
     "text": [
      "{'a': 10, 'b': 25, 'c': 15}\n"
     ]
    }
   ],
   "source": [
    "dict1 = {'a': 10, 'b': 20}\n",
    "dict2 = {'b': 5, 'c': 15}\n",
    "\n",
    "# Merging the dictionaries and adding the values for common keys\n",
    "merged_dict = dict1.copy() \n",
    "for key, value in dict2.items():\n",
    "    merged_dict[key] = merged_dict.get(key, 0) + value\n",
    "\n",
    "# Print the merged dictionary\n",
    "print(merged_dict)"
   ]
  },
  {
   "cell_type": "markdown",
   "id": "d6288ac5-785e-4ca0-ac3d-add9e4bdba98",
   "metadata": {},
   "source": [
    "# Q10. CHARACTER FREQUENCY"
   ]
  },
  {
   "cell_type": "code",
   "execution_count": 81,
   "id": "e37140e5-d617-4d3c-9ba1-6cee055ed3d2",
   "metadata": {},
   "outputs": [
    {
     "name": "stdin",
     "output_type": "stream",
     "text": [
      " APPLE\n"
     ]
    },
    {
     "name": "stdout",
     "output_type": "stream",
     "text": [
      "apple\n",
      "{'a': 1, 'p': 2, 'l': 1, 'e': 1}\n"
     ]
    },
    {
     "data": {
      "image/png": "[encoded data removed]",
      "text/plain": [
       "<Figure size 640x480 with 1 Axes>"
      ]
     },
     "metadata": {},
     "output_type": "display_data"
    }
   ],
   "source": [
    "# counts the ferquency of each character and returns a dictionary with character as key and count as value\n",
    "def counter(string):\n",
    "    output = string.lower()\n",
    "    dicts = {}\n",
    "    for letter in string.lower():\n",
    "        if letter not in dicts.keys():\n",
    "            dicts[letter] = output.count(letter)\n",
    "    print(output)\n",
    "    return dicts\n",
    "string = input()\n",
    "X = counter(string) \n",
    "print(X)\n",
    "# Visualize the character frequencies using a bar chart.\n",
    "import matplotlib.pyplot as plt\n",
    "plt.bar(X.keys(),X.values())\n",
    "plt.show()"
   ]
  },
  {
   "cell_type": "markdown",
   "id": "1cfb97e7-fef3-4782-8b4f-6679d8febd53",
   "metadata": {},
   "source": [
    "# Q11. REMOVE DUPLICATES"
   ]
  },
  {
   "cell_type": "code",
   "execution_count": 19,
   "id": "60c1178a-253f-41a4-a472-b88ada4b20a4",
   "metadata": {},
   "outputs": [
    {
     "name": "stdin",
     "output_type": "stream",
     "text": [
      " 2564317687\n"
     ]
    },
    {
     "name": "stdout",
     "output_type": "stream",
     "text": [
      "[1, 2, 3, 4, 5, 6, 7, 8]\n",
      "The mean is 4.5\n",
      "The median is 4.5\n"
     ]
    }
   ],
   "source": [
    "# Write a program to remove duplicate elements from a list while maintaining the order of elements.\n",
    "lst = (list(map(int,input())))\n",
    "new_lst = []\n",
    "for item in lst:\n",
    "    if item not in new_lst:\n",
    "        new_lst.append(item)\n",
    "    else:\n",
    "        continue\n",
    "new_lst.sort()\n",
    "print(new_lst)\n",
    "# calculate mean\n",
    "mean = sum(new_lst)/len(new_lst)\n",
    "print(f'The mean is {mean}')\n",
    "# calculate median\n",
    "if len(new_lst)%2==0:\n",
    "    median = (new_lst[int(len(new_lst)/2)-1]+new_lst[int(len(new_lst)/2+1)-1])/2\n",
    "else:\n",
    "    median = (new_lst[int(len(new_lst)/2)])\n",
    "print(f'The median is {median}')"
   ]
  },
  {
   "cell_type": "markdown",
   "id": "5d8b7381-591d-4175-90e0-4dc8ac756847",
   "metadata": {},
   "source": [
    "# Q12. STRING OPERATIONS"
   ]
  },
  {
   "cell_type": "code",
   "execution_count": 97,
   "id": "100925bc-5e32-4d4b-b54c-f2ecc49560df",
   "metadata": {},
   "outputs": [
    {
     "name": "stdin",
     "output_type": "stream",
     "text": [
      " geuwhxin,eiufh,ieuioh,jidcjhc\n"
     ]
    },
    {
     "name": "stdout",
     "output_type": "stream",
     "text": [
      "The longest string has length: 8\n",
      "No. of strings starting with vowels are: 2\n"
     ]
    },
    {
     "data": {
      "image/png": "[encoded data removed]",
      "text/plain": [
       "<Figure size 640x480 with 1 Axes>"
      ]
     },
     "metadata": {},
     "output_type": "display_data"
    }
   ],
   "source": [
    "lst = list(map(str,input().split(',')))\n",
    "\n",
    "# Find the longest string.\n",
    "leng = 0\n",
    "for item in lst:\n",
    "    if len(item) > leng:\n",
    "        leng = len(item)\n",
    "print(f'The longest string has length: {leng}')\n",
    "\n",
    "# Count how many strings start with a vowel.\n",
    "x = ['a','e','i','o','u']\n",
    "c = 0\n",
    "for item in lst:\n",
    "    if item[0] in x:\n",
    "        c += 1\n",
    "print(f'No. of strings starting with vowels are: {c}')\n",
    "\n",
    "import matplotlib.pyplot as plt\n",
    "items = [len(item) for item in lst]\n",
    "plt.hist(items)\n",
    "plt.show()"
   ]
  },
  {
   "cell_type": "markdown",
   "id": "242a10ed-7380-4662-96a2-c6bc32c67d82",
   "metadata": {},
   "source": [
    "# Q13. SORTING DICTIONARIES"
   ]
  },
  {
   "cell_type": "code",
   "execution_count": 26,
   "id": "b3c8fe77-d02c-487d-aa9b-a0cd9a8c8f5b",
   "metadata": {},
   "outputs": [
    {
     "name": "stdout",
     "output_type": "stream",
     "text": [
      "[{'name': 'Alice', 'age': 22}, {'name': 'Bob', 'age': 25}]\n"
     ]
    }
   ],
   "source": [
    "# data = [{'name': 'Alice', 'age': 25}, {'name': 'Bob', 'age': 22}]\n",
    "def sort_by_key(data, key):\n",
    "    return sorted(data, key=lambda x: x[key])\n",
    "\n",
    "# Example usage\n",
    "data = [{'name': 'Alice', 'age': 25}, {'name': 'Bob', 'age': 22}]\n",
    "sorted_data = sort_by_key(data, 'name')\n",
    "print(sorted_data)"
   ]
  },
  {
   "cell_type": "markdown",
   "id": "00f304a6-31d6-4dc1-a15a-9426cfd66ed5",
   "metadata": {},
   "source": [
    "# Q14. WORD FILTERING AND SORTING"
   ]
  },
  {
   "cell_type": "code",
   "execution_count": 93,
   "id": "05f7cc39-846e-46b3-b973-1d210da154a2",
   "metadata": {},
   "outputs": [
    {
     "name": "stdin",
     "output_type": "stream",
     "text": [
      " hello i am bhoomi\n"
     ]
    },
    {
     "name": "stdout",
     "output_type": "stream",
     "text": [
      "['hello', 'i', 'am', 'bhoomi']\n",
      "['hello', 'bhoomi']\n",
      "['bhoomi', 'hello']\n"
     ]
    },
    {
     "data": {
      "image/png": "[encoded data removed]",
      "text/plain": [
       "<Figure size 640x480 with 1 Axes>"
      ]
     },
     "metadata": {},
     "output_type": "display_data"
    }
   ],
   "source": [
    "# Write a program to Split a string into a list of words.\n",
    "string = list(input().split(' '))\n",
    "print(string)\n",
    "# Remove all words that are shorter than 4 characters.\n",
    "for word in string:\n",
    "    for word in string:\n",
    "        if len(word) < 4:\n",
    "            string.remove(word)\n",
    "print(string)\n",
    "# Sort the remaining words alphabetically.\n",
    "string.sort()\n",
    "print(string)\n",
    "\n",
    "# Visualize the word lengths using a bar chart.\n",
    "import matplotlib.pyplot as plt\n",
    "lengths = [len(item) for item in string]\n",
    "plt.bar(lengths,10)\n",
    "plt.show()"
   ]
  },
  {
   "cell_type": "markdown",
   "id": "3c5c5ada-97f9-4877-a296-90a8cc27df9b",
   "metadata": {},
   "source": [
    "# Q15. ANAGRAM FINDER"
   ]
  },
  {
   "cell_type": "code",
   "execution_count": 58,
   "id": "f1ccae88-1d0a-4fbc-b283-2241e841dd54",
   "metadata": {},
   "outputs": [
    {
     "name": "stdin",
     "output_type": "stream",
     "text": [
      "Word:  listen\n"
     ]
    },
    {
     "data": {
      "text/plain": [
       "['enlist', 'inlets']"
      ]
     },
     "execution_count": 58,
     "metadata": {},
     "output_type": "execute_result"
    }
   ],
   "source": [
    "words = [\"enlist\", \"google\", \"inlets\", \"banana\"]\n",
    "def func(word,words):\n",
    "    lst = []\n",
    "    for item in words:\n",
    "        if sorted(word) == sorted(item):\n",
    "            lst.append(item)\n",
    "    return lst\n",
    "\n",
    "a = input('Word: ')\n",
    "func(a,words)"
   ]
  },
  {
   "cell_type": "markdown",
   "id": "f95b2b2d-90e9-4bd9-8ac6-e7345ed45e2a",
   "metadata": {},
   "source": [
    "# Q16. SET OPERATIONS"
   ]
  },
  {
   "cell_type": "code",
   "execution_count": 11,
   "id": "54296ac2-1661-4c59-b3ba-4543d012fa5c",
   "metadata": {},
   "outputs": [
    {
     "name": "stdin",
     "output_type": "stream",
     "text": [
      " 123456\n",
      " 4567889\n"
     ]
    },
    {
     "name": "stdout",
     "output_type": "stream",
     "text": [
      "['4', '5', '6']\n",
      "['1', '2', '3', '4', '5', '6', '4', '5', '6', '7', '8', '8', '9']\n",
      "['3', '1', '2', '8', '9', '7']\n"
     ]
    },
    {
     "data": {
      "image/png": "[encoded data removed]",
      "text/plain": [
       "<Figure size 640x480 with 1 Axes>"
      ]
     },
     "metadata": {},
     "output_type": "display_data"
    }
   ],
   "source": [
    "list1 = list(input())\n",
    "list2 = list(input())\n",
    "\n",
    "# Given two lists, write Python code to find their intersection\n",
    "list3 = []\n",
    "for item in list2:\n",
    "    if item in list1:\n",
    "        list3.append(item)\n",
    "        \n",
    "print(list3)\n",
    "\n",
    "# Given two lists, write Python code to find their union\n",
    "lst = list1 + list2\n",
    "print(lst)\n",
    "\n",
    "# Given two lists, write Python code to find their symmetric difference\n",
    "lst1 = []\n",
    "for item in set(list1):\n",
    "    if item not in list2:\n",
    "        lst1.append(item)\n",
    "for item in set(list2):\n",
    "    if item not in list1:\n",
    "        lst1.append(item)\n",
    "\n",
    "print(lst1)\n",
    "\n",
    "# Visualize the results using Venn diagrams\n",
    "import matplotlib.pyplot as plt\n",
    "from matplotlib_venn import venn3\n",
    "venn3([set(list3),set(lst),set(lst1)],('Intersection','Union','Symmetric difference'))\n",
    "plt.show()"
   ]
  },
  {
   "cell_type": "markdown",
   "id": "cbd09c94-ae5d-4502-92ef-4941856c0c47",
   "metadata": {},
   "source": [
    "# Q17. FILE OPERATIONS"
   ]
  },
  {
   "cell_type": "code",
   "execution_count": 109,
   "id": "716a1910-5fe7-4a8d-b729-ae26f484dac7",
   "metadata": {},
   "outputs": [
    {
     "name": "stdout",
     "output_type": "stream",
     "text": [
      "150\n"
     ]
    }
   ],
   "source": [
    "numbers = [10, 20, 30, 40, 50]\n",
    "\n",
    "with open('numbers.txt', 'w') as file:\n",
    "    for number in numbers:\n",
    "        file.write(f\"{number}\\n\")\n",
    "\n",
    "with open('numbers.txt', 'r') as file:\n",
    "    total_sum = 0\n",
    "    for line in file:\n",
    "        total_sum += int(line.strip())\n",
    "\n",
    "print(total_sum)"
   ]
  },
  {
   "cell_type": "markdown",
   "id": "ef3a1daa-f51c-4387-9791-3e3c881c4214",
   "metadata": {},
   "source": [
    "# Q18. WORD COUNT AND FREQUENCY"
   ]
  },
  {
   "cell_type": "code",
   "execution_count": 19,
   "id": "36c72dd9-9255-46f8-b388-4bcb131fd91e",
   "metadata": {},
   "outputs": [
    {
     "name": "stdout",
     "output_type": "stream",
     "text": [
      "10\n",
      "table\n"
     ]
    },
    {
     "data": {
      "image/png": "[encoded data removed]",
      "text/plain": [
       "<Figure size 640x480 with 1 Axes>"
      ]
     },
     "metadata": {},
     "output_type": "display_data"
    }
   ],
   "source": [
    "# Write a program to Read a file and count the number of words in it.\n",
    "f = open('words.txt', 'w')\n",
    "f.write(\"A table is a table that looks like a table\")\n",
    "f.close()\n",
    "x = open('words.txt', 'r')\n",
    "with x as file:\n",
    "    word_count = 0\n",
    "    for line in file:\n",
    "        for word in line.split(' '):\n",
    "            word_count += 1\n",
    "print(word_count)\n",
    "\n",
    "# Write a program to Find the most frequent word.\n",
    "with open('words.txt', 'r') as file:\n",
    "    dictt = {}\n",
    "    for line in file:\n",
    "        for word in line.split(' '):\n",
    "            dictt[word] = line.split(' ').count(word)\n",
    "    value = 0\n",
    "    keya = ''\n",
    "    for key,val in dictt.items():\n",
    "        if val > value:\n",
    "            value = val\n",
    "            keya = key\n",
    "    print(keya)\n",
    "\n",
    "import matplotlib.pyplot as plt\n",
    "plt.bar(dictt.keys(),dictt.values())\n",
    "plt.show()"
   ]
  },
  {
   "cell_type": "markdown",
   "id": "3556f351-2c52-464a-a95f-f97bc3c6e844",
   "metadata": {},
   "source": [
    "# Q19. RANDOM NUMBER GENERATION"
   ]
  },
  {
   "cell_type": "code",
   "execution_count": 25,
   "id": "959b367e-e1f9-43e9-8406-d8527ce5975d",
   "metadata": {},
   "outputs": [
    {
     "name": "stdout",
     "output_type": "stream",
     "text": [
      "The mean is: 24.71\n"
     ]
    },
    {
     "data": {
      "image/png": "[encoded data removed]",
      "text/plain": [
       "<Figure size 640x480 with 1 Axes>"
      ]
     },
     "metadata": {},
     "output_type": "display_data"
    }
   ],
   "source": [
    "import random\n",
    "with open('text.txt','w') as file:\n",
    "    for i in range(100):\n",
    "        file.write(str(random.randint(1,51)))\n",
    "        file.write(\"\\n\")\n",
    "\n",
    "with open('text.txt', 'r') as file:\n",
    "    sums = 0\n",
    "    number = []\n",
    "    for line in file:\n",
    "        sums = sums + int(line.strip())\n",
    "        number.append(int(line.strip()))\n",
    "    print(f'The mean is: {sums/100}')\n",
    "\n",
    "import matplotlib.pyplot as plt\n",
    "plt.hist(number)\n",
    "plt.show()"
   ]
  },
  {
   "cell_type": "markdown",
   "id": "4c991926-5ab6-4c12-8c26-d8c79a625ac7",
   "metadata": {},
   "source": [
    "# Q20. CSV FILE OPERATIONS"
   ]
  },
  {
   "cell_type": "code",
   "execution_count": 23,
   "id": "d787d945-d711-4acd-bb77-1a5ac8f8652a",
   "metadata": {},
   "outputs": [
    {
     "name": "stdin",
     "output_type": "stream",
     "text": [
      "Num of column to be added:  2\n"
     ]
    },
    {
     "name": "stdout",
     "output_type": "stream",
     "text": [
      "The sum is: 134\n"
     ]
    },
    {
     "data": {
      "text/plain": [
       "[<matplotlib.lines.Line2D at 0x1640e911b20>]"
      ]
     },
     "execution_count": 23,
     "metadata": {},
     "output_type": "execute_result"
    },
    {
     "data": {
      "image/png": "[encoded data removed]",
      "text/plain": [
       "<Figure size 640x480 with 1 Axes>"
      ]
     },
     "metadata": {},
     "output_type": "display_data"
    }
   ],
   "source": [
    "import csv\n",
    "data = open('psdv_submission.csv', encoding = 'utf-8')\n",
    "csv_data = csv.reader(data)\n",
    "data_lines = list(csv_data)\n",
    "list_of_sum = []\n",
    "x = int(input('Num of column to be added: '))\n",
    "\n",
    "names = []\n",
    "age = []\n",
    "for line in data_lines[1:]:\n",
    "    list_of_sum.append(int(line[x]))\n",
    "    names.append(line[1])\n",
    "    age.append(int(line[2]))\n",
    "print(f'The sum is: {sum(list_of_sum)}')\n",
    "\n",
    "\n",
    "import matplotlib.pyplot as plt\n",
    "plt.plot(names,age)"
   ]
  },
  {
   "cell_type": "markdown",
   "id": "dd8842d3-f310-4e6b-b853-6389f5ad7ddb",
   "metadata": {},
   "source": [
    "# Q21. BASIC STATISTICS"
   ]
  },
  {
   "cell_type": "code",
   "execution_count": 29,
   "id": "dbf92ccc-327f-44c5-8e68-b5f0e7502c84",
   "metadata": {},
   "outputs": [
    {
     "name": "stdout",
     "output_type": "stream",
     "text": [
      "The mean is: 32.857142857142854\n",
      "The median is 30\n",
      "The mode is: 20\n",
      "The standard deviation is 9.856107606091623\n"
     ]
    },
    {
     "data": {
      "image/png": "[encoded data removed]",
      "text/plain": [
       "<Figure size 640x480 with 1 Axes>"
      ]
     },
     "metadata": {},
     "output_type": "display_data"
    }
   ],
   "source": [
    "lst = [10,20,30,40,50,60,20]\n",
    "# mean\n",
    "mean = sum(lst)/len(lst)\n",
    "print(f'The mean is: {mean}')\n",
    "\n",
    "# median\n",
    "lst.sort()\n",
    "if len(lst)%2==0:\n",
    "    median = (lst[int(len(lst)/2)-1]+lst[int(len(lst)/2+1)-1])/2\n",
    "else:\n",
    "    median = (lst[int(len(lst)/2)])\n",
    "print(f'The median is {median}')\n",
    "\n",
    "# mode\n",
    "count = 0\n",
    "mode = 0\n",
    "for num in lst:\n",
    "    if lst.count(num) > count:\n",
    "        count = lst.count(num)\n",
    "        mode = num\n",
    "print(f'The mode is: {mode}')\n",
    "\n",
    "# standard deviation\n",
    "import math\n",
    "s = 0\n",
    "for numb in lst:\n",
    "    s = s + (numb - mean)**2\n",
    "sd = math.sqrt(s/20)\n",
    "    \n",
    "print(f'The standard deviation is {sd}')\n",
    "\n",
    "lsttt = [mean,median,mode,sd]\n",
    "# Visualize the data using a box plot.\n",
    "import matplotlib.pyplot as plt\n",
    "plt.boxplot(lsttt)\n",
    "plt.show()"
   ]
  },
  {
   "cell_type": "markdown",
   "id": "ec613098-4bd6-4545-b76d-ed4d963291f4",
   "metadata": {},
   "source": [
    "# Q22. NORMALIZATION"
   ]
  },
  {
   "cell_type": "code",
   "execution_count": 33,
   "id": "5753ea78-951a-472b-b52d-5352c087eff4",
   "metadata": {},
   "outputs": [
    {
     "name": "stdout",
     "output_type": "stream",
     "text": [
      "[0.0, 0.2, 0.4, 0.6, 0.8, 1.0, 0.2]\n"
     ]
    },
    {
     "data": {
      "image/png": "[encoded data removed]",
      "text/plain": [
       "<Figure size 640x480 with 1 Axes>"
      ]
     },
     "metadata": {},
     "output_type": "display_data"
    }
   ],
   "source": [
    "numbers = [10,20,30,40,50,60,20]\n",
    "def normalize(numbers):\n",
    "    normalized_lst = []\n",
    "    minimum = min(numbers)\n",
    "    maximum = max(numbers)\n",
    "    for number in numbers:\n",
    "        normalized_number = (number - minimum)/(maximum - minimum)\n",
    "        normalized_lst.append(normalized_number)\n",
    "    return normalized_lst\n",
    "\n",
    "x = normalize(numbers)\n",
    "print(x)\n",
    "# Visualize the normalized data using a line plot.\n",
    "import matplotlib.pyplot as plt\n",
    "plt.plot(x)\n",
    "plt.show()"
   ]
  },
  {
   "cell_type": "markdown",
   "id": "6ac75c25-e126-41af-8789-5a21921de3ba",
   "metadata": {},
   "source": [
    "# Q23. EVEN OR ODD"
   ]
  },
  {
   "cell_type": "code",
   "execution_count": 15,
   "id": "9e603e14-1b50-411a-82db-a35eeb5e90db",
   "metadata": {},
   "outputs": [
    {
     "name": "stdin",
     "output_type": "stream",
     "text": [
      " 6543\n"
     ]
    },
    {
     "name": "stdout",
     "output_type": "stream",
     "text": [
      "The number 6543 is odd\n"
     ]
    }
   ],
   "source": [
    "x = int(input())\n",
    "if x%2 == 0:\n",
    "    print(f'The number {x} is even')\n",
    "else:\n",
    "    print(f'The number {x} is odd')"
   ]
  },
  {
   "cell_type": "markdown",
   "id": "f7ead8d5-3ccd-4013-a235-21806702619a",
   "metadata": {},
   "source": [
    "# Q24. GRADE CALCULATOR"
   ]
  },
  {
   "cell_type": "code",
   "execution_count": 20,
   "id": "a64bca72-c408-4004-8168-acbb37c7ac4d",
   "metadata": {},
   "outputs": [
    {
     "name": "stdin",
     "output_type": "stream",
     "text": [
      "Enter marks:  77\n"
     ]
    },
    {
     "name": "stdout",
     "output_type": "stream",
     "text": [
      "The grade is C\n"
     ]
    }
   ],
   "source": [
    "num_grade = int(input('Enter marks: '))\n",
    "if 90<=num_grade<=100:\n",
    "    print('The grade is A')\n",
    "elif 80<=num_grade<90:\n",
    "    print('The grade is B')\n",
    "elif 70<=num_grade<80:\n",
    "    print('The grade is C')\n",
    "elif 60<=num_grade<70:\n",
    "    print('The grade is D')\n",
    "else:\n",
    "    print('The grade is F')"
   ]
  },
  {
   "cell_type": "markdown",
   "id": "488a4773-6675-45dd-b756-09cdab6618d7",
   "metadata": {},
   "source": [
    "# Q25. LEAP YEAR CHECKER"
   ]
  },
  {
   "cell_type": "code",
   "execution_count": 25,
   "id": "37a8f55b-376f-45e3-a71e-c0ccf20001a7",
   "metadata": {},
   "outputs": [
    {
     "name": "stdin",
     "output_type": "stream",
     "text": [
      "Enter year:  1900\n"
     ]
    },
    {
     "name": "stdout",
     "output_type": "stream",
     "text": [
      "It is not a leap year\n"
     ]
    }
   ],
   "source": [
    "year = int(input('Enter year: '))\n",
    "if year%4 == 0:\n",
    "    if year%100 == 0 and year%400 != 0:\n",
    "        print(\"It is not a leap year\")\n",
    "    else:\n",
    "        print('It is a leap year') "
   ]
  },
  {
   "cell_type": "code",
   "execution_count": null,
   "id": "b50d0de2-4bf4-4adf-bfc5-5b17e1d73778",
   "metadata": {},
   "outputs": [],
   "source": []
  }
 ],
 "metadata": {
  "kernelspec": {
   "display_name": "Python [conda env:base] *",
   "language": "python",
   "name": "conda-base-py"
  },
  "language_info": {
   "codemirror_mode": {
    "name": "ipython",
    "version": 3
   },
   "file_extension": ".py",
   "mimetype": "text/x-python",
   "name": "python",
   "nbconvert_exporter": "python",
   "pygments_lexer": "ipython3",
   "version": "3.12.7"
  }
 },
 "nbformat": 4,
 "nbformat_minor": 5
}
